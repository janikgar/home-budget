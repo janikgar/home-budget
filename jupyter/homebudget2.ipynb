{
 "cells": [
  {
   "cell_type": "markdown",
   "metadata": {},
   "source": [
    "Home Budget\n",
    "-----"
   ]
  },
  {
   "cell_type": "code",
   "execution_count": 1,
   "metadata": {},
   "outputs": [
    {
     "name": "stdout",
     "output_type": "stream",
     "text": [
      "Loading Google Sheet... \n",
      "Saved token found\n",
      "Getting sheet values:\n",
      "\t Transactions... \n",
      "done\n",
      "\t Categories... \n",
      "done\n",
      "\t Balance History... \n",
      "done\n"
     ]
    }
   ],
   "source": [
    "import requests\n",
    "import pickle\n",
    "import pandas as pd\n",
    "import numpy as np\n",
    "import matplotlib.pyplot as plt\n",
    "%matplotlib notebook\n",
    "from google_auth_oauthlib import flow\n",
    "from apiclient.discovery import build\n",
    "\n",
    "import config.settings as settings\n",
    "\n",
    "SCOPES = [\"https://www.googleapis.com/auth/spreadsheets.readonly\"]\n",
    "URL = 'https://sheets.googleapis.com/v4/spreadsheets/' + settings.SPREADSHEET_ID\n",
    "\n",
    "def parse_google_auth(file):\n",
    "  \"\"\"\n",
    "  parse_goole_auth(file)\n",
    "  :param: file is a String with a path (relative or absolute) to the given JSON file.\n",
    "\n",
    "  This function requires a JSON file for a specific Google OAuth user.\n",
    "  This can be received from the Google Cloud Console for the linked project.\n",
    "  \"\"\"\n",
    "  log(\"Loading Google Sheet... \", end=\"\")\n",
    "  try:\n",
    "    saved_token = open('config/token.bin', 'rb')\n",
    "    creds = pickle.load(saved_token)\n",
    "    log(\"Saved token found\")\n",
    "  except FileNotFoundError:\n",
    "    saved_token = open('config/token.bin', 'wb+')\n",
    "    auth_flow = flow.InstalledAppFlow.from_client_secrets_file(file, scopes=SCOPES)\n",
    "    creds = auth_flow.run_local_server(open_browser=True)\n",
    "    pickle.dump(creds, saved_token)\n",
    "    log(\"New token saved\")\n",
    "  finally:\n",
    "    saved_token.close()\n",
    "\n",
    "  service = build('sheets', 'v4', credentials=creds)\n",
    "  return service\n",
    "\n",
    "def get_sheet_values(file_id=settings.SPREADSHEET_ID):\n",
    "  service = parse_google_auth(\"config/oauth2.json\")\n",
    "  log(\"Getting sheet values:\")\n",
    "  return_values = {}\n",
    "  for range_string in settings.SHEET_NAMES:\n",
    "    log(\"\\t {}... \".format(range_string), end=\"\")\n",
    "    request = service.spreadsheets().values().batchGet(\n",
    "        spreadsheetId=settings.SPREADSHEET_ID, ranges=range_string)\n",
    "    response = request.execute()\n",
    "    values = response['valueRanges'][0]['values']\n",
    "    return_values[range_string] = values\n",
    "    log(\"done\")\n",
    "  return return_values\n",
    "\n",
    "def log(string, end='\\n'):\n",
    "    '''\n",
    "    For backwards compatibility\n",
    "    '''\n",
    "    print(string)\n",
    "    \n",
    "vals = get_sheet_values()"
   ]
  },
  {
   "cell_type": "code",
   "execution_count": 2,
   "metadata": {},
   "outputs": [],
   "source": [
    "plt.style.use('seaborn')"
   ]
  },
  {
   "cell_type": "code",
   "execution_count": 160,
   "metadata": {
    "scrolled": false
   },
   "outputs": [],
   "source": [
    "bal_hist = pd.DataFrame(vals['Balance History'][1:], columns=vals['Balance History'][0][:-1])\n",
    "bal_hist.set_index(pd.to_datetime(bal_hist.pop('Date') + ' ' + bal_hist.pop('Time')), inplace=True)\n",
    "bal_hist['Balance'] = pd.to_numeric(bal_hist['Balance'].str.replace('$', '').str.replace(',', ''))\n",
    "small_hist = bal_hist.loc[:, ['Balance', 'Class']].loc[:'1971-01-01']\n",
    "liabilities = small_hist[small_hist['Class'] == 'Liability']\n",
    "assets = small_hist[small_hist['Class'] == 'Asset']\n",
    "liabilities.loc[:, 'Balance'] *= -1"
   ]
  },
  {
   "cell_type": "code",
   "execution_count": 274,
   "metadata": {},
   "outputs": [
    {
     "data": {
      "text/plain": [
       "<matplotlib.axes._subplots.AxesSubplot at 0x2778c9939b0>"
      ]
     },
     "execution_count": 274,
     "metadata": {},
     "output_type": "execute_result"
    },
    {
     "data": {
      "image/png": "[encoded data removed]",
      "text/plain": [
       "<Figure size 576x396 with 1 Axes>"
      ]
     },
     "metadata": {},
     "output_type": "display_data"
    }
   ],
   "source": [
    "new_hist = pd.concat([liabilities['Balance'], assets['Balance']])\n",
    "new_hist = new_hist.sort_index()\n",
    "new_hist = new_hist[new_hist < 25000]\n",
    "# new_hist.describe()\n",
    "new_hist.plot(style='c.')\n",
    "# new_hist_ave = new_hist.rolling(window=30).median()\n",
    "# new_hist_ave.plot(style='k-')"
   ]
  }
 ],
 "metadata": {
  "kernelspec": {
   "display_name": "Python 3",
   "language": "python",
   "name": "python3"
  },
  "language_info": {
   "codemirror_mode": {
    "name": "ipython",
    "version": 3
   },
   "file_extension": ".py",
   "mimetype": "text/x-python",
   "name": "python",
   "nbconvert_exporter": "python",
   "pygments_lexer": "ipython3",
   "version": "3.6.7"
  }
 },
 "nbformat": 4,
 "nbformat_minor": 2
}
