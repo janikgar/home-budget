{
 "cells": [
  {
   "cell_type": "markdown",
   "metadata": {},
   "source": [
    "# Home Budget\n",
    "## Here's my second heading with stuff\n",
    "- Get bananas\n",
    "- Go shopping\n",
    "- Sleep"
   ]
  },
  {
   "cell_type": "code",
   "execution_count": 1,
   "metadata": {},
   "outputs": [],
   "source": [
    "import psycopg2 as pg\n",
    "import pandas as pd\n",
    "import plotly.offline\n",
    "import plotly.figure_factory as ff\n",
    "import plotly.graph_objs as go\n",
    "from pprint import pprint as pp\n",
    "PG_USER = 'jacob'\n",
    "CONN = pg.connect(dbname=\"homebudget\", user=PG_USER)"
   ]
  },
  {
   "cell_type": "code",
   "execution_count": null,
   "metadata": {},
   "outputs": [],
   "source": [
    "def balance_data():\n",
    "    balance_data = pd.read_sql(\"SELECT date, balance, account FROM balance_history ORDER BY account, date ASC\", con=CONN)\n",
    "    table = ff.create_table(balance_data)\n",
    "    pp(table)\n",
    "    plotly.offline.iplot(table)\n",
    "balance_data()"
   ]
  }
 ],
 "metadata": {
  "kernelspec": {
   "display_name": "Python 3",
   "language": "python",
   "name": "python3"
  },
  "language_info": {
   "codemirror_mode": {
    "name": "ipython",
    "version": 3
   },
   "file_extension": ".py",
   "mimetype": "text/x-python",
   "name": "python",
   "nbconvert_exporter": "python",
   "pygments_lexer": "ipython3",
   "version": "3.5.2"
  }
 },
 "nbformat": 4,
 "nbformat_minor": 2
}
